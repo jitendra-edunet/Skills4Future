{
 "cells": [
  {
   "cell_type": "markdown",
   "id": "641f6b53",
   "metadata": {},
   "source": [
    "# Modeling Energy Consumption with Python: Classes, Inheritance, Encapsulation, and Polymorphism"
   ]
  },
  {
   "cell_type": "markdown",
   "id": "22a7411c",
   "metadata": {},
   "source": [
    "#### Objectives:\n",
    "\n",
    "1.Class Definition: We will define the EnergySystem class to model the energy consumption and emission factors for different buildings.\n",
    "\n",
    "2.Methods: We will implement methods to calculate the carbon footprint and energy savings for each building.\n",
    "\n",
    "3.Inheritance: We will extend the base class by creating a SolarEnergySystem subclass to model solar energy production.\n",
    "\n",
    "4.Encapsulation: We will ensure key attributes are protected to maintain controlled access to them.\n",
    "\n",
    "5.Polymorphism: We will demonstrate polymorphism by overriding the carbon footprint calculation method in the subclass to account for solar energy production."
   ]
  },
  {
   "cell_type": "markdown",
   "id": "ae7fdbd2",
   "metadata": {},
   "source": [
    "## 1: Class Definition (EnergySystem)"
   ]
  },
  {
   "cell_type": "code",
   "execution_count": 1,
   "id": "ac597eff",
   "metadata": {},
   "outputs": [
    {
     "name": "stdout",
     "output_type": "stream",
     "text": [
      "Building A: 5000 kWh, 0.45 kg CO2/kWh\n"
     ]
    }
   ],
   "source": [
    "# Define the EnergySystem class\n",
    "class EnergySystem:\n",
    "    def __init__(self, building_name, energy_consumption, emission_factor):\n",
    "        # Initialize attributes\n",
    "        self.building_name = building_name\n",
    "        self.energy_consumption = energy_consumption  # in kWh\n",
    "        self.emission_factor = emission_factor  # kg CO2 per kWh\n",
    "\n",
    "# Example usage:\n",
    "building = EnergySystem(\"Building A\", 5000, 0.45)\n",
    "print(f\"{building.building_name}: {building.energy_consumption} kWh, {building.emission_factor} kg CO2/kWh\")\n"
   ]
  },
  {
   "cell_type": "markdown",
   "id": "849ef6e3",
   "metadata": {},
   "source": [
    "This defines the EnergySystem class with attributes: building_name, energy_consumption, and emission_factor.\n",
    "The __init__ method is the constructor that initializes the object with these attributes."
   ]
  },
  {
   "cell_type": "markdown",
   "id": "6ed19a80",
   "metadata": {},
   "source": [
    "## 2: Methods to Calculate Carbon Footprint and Energy Savings"
   ]
  },
  {
   "cell_type": "code",
   "execution_count": 2,
   "id": "236485aa",
   "metadata": {},
   "outputs": [
    {
     "name": "stdout",
     "output_type": "stream",
     "text": [
      "Carbon Footprint: 2250.0 kg CO2\n",
      "Energy Savings: 500.0 kWh\n"
     ]
    }
   ],
   "source": [
    "class EnergySystem:\n",
    "    def __init__(self, building_name, energy_consumption, emission_factor):\n",
    "        self.building_name = building_name\n",
    "        self.energy_consumption = energy_consumption  # in kWh\n",
    "        self.emission_factor = emission_factor  # kg CO2 per kWh\n",
    "    \n",
    "    # Method to calculate carbon footprint\n",
    "    def calculate_carbon_footprint(self):\n",
    "        return self.energy_consumption * self.emission_factor\n",
    "\n",
    "    # Method to calculate energy savings (Assume saving 10% for now)\n",
    "    def calculate_energy_savings(self):\n",
    "        return self.energy_consumption * 0.10  # 10% savings\n",
    "\n",
    "# Example usage:\n",
    "building = EnergySystem(\"Building A\", 5000, 0.45)\n",
    "carbon_footprint = building.calculate_carbon_footprint()\n",
    "energy_savings = building.calculate_energy_savings()\n",
    "\n",
    "print(f\"Carbon Footprint: {carbon_footprint} kg CO2\")\n",
    "print(f\"Energy Savings: {energy_savings} kWh\")\n"
   ]
  },
  {
   "cell_type": "markdown",
   "id": "185c5f8e",
   "metadata": {},
   "source": [
    "calculate_carbon_footprint: Multiplies energy consumption by the emission factor to get the carbon footprint.\n",
    "calculate_energy_savings: Calculates 10% energy savings as an example."
   ]
  },
  {
   "cell_type": "markdown",
   "id": "ae40b03c",
   "metadata": {},
   "source": [
    "## 3: Inheritance (SolarEnergySystem Subclass)"
   ]
  },
  {
   "cell_type": "code",
   "execution_count": 3,
   "id": "eb328eb8",
   "metadata": {},
   "outputs": [
    {
     "name": "stdout",
     "output_type": "stream",
     "text": [
      "Net Energy Consumption: 3500 kWh\n"
     ]
    }
   ],
   "source": [
    "# Subclass SolarEnergySystem inheriting from EnergySystem\n",
    "class SolarEnergySystem(EnergySystem):\n",
    "    def __init__(self, building_name, energy_consumption, emission_factor, solar_production):\n",
    "        # Inherit attributes from the parent class\n",
    "        super().__init__(building_name, energy_consumption, emission_factor)\n",
    "        self.solar_production = solar_production  # energy produced by solar panels in kWh\n",
    "    \n",
    "    # Method to calculate net energy consumption (energy used - solar energy produced)\n",
    "    def net_energy_consumption(self):\n",
    "        return self.energy_consumption - self.solar_production\n",
    "\n",
    "# Example usage:\n",
    "solar_building = SolarEnergySystem(\"Solar Building\", 5000, 0.45, 1500)\n",
    "net_consumption = solar_building.net_energy_consumption()\n",
    "\n",
    "print(f\"Net Energy Consumption: {net_consumption} kWh\")\n"
   ]
  },
  {
   "cell_type": "markdown",
   "id": "6b21ec24",
   "metadata": {},
   "source": [
    "SolarEnergySystem is a subclass that inherits from EnergySystem and adds a new attribute solar_production to represent solar panel output.\n",
    "The net_energy_consumption method calculates energy used minus solar energy produced."
   ]
  },
  {
   "cell_type": "markdown",
   "id": "cfee6e3b",
   "metadata": {},
   "source": [
    "## 4: Encapsulation (Protecting Attributes)"
   ]
  },
  {
   "cell_type": "code",
   "execution_count": 4,
   "id": "cebb18c8",
   "metadata": {},
   "outputs": [
    {
     "name": "stdout",
     "output_type": "stream",
     "text": [
      "Energy Consumption (accessed via method): 5000 kWh\n"
     ]
    }
   ],
   "source": [
    "class EnergySystem:\n",
    "    def __init__(self, building_name, energy_consumption, emission_factor):\n",
    "        self.building_name = building_name\n",
    "        self._energy_consumption = energy_consumption  # Protected attribute\n",
    "        self._emission_factor = emission_factor  # Protected attribute\n",
    "\n",
    "    # Method to access energy consumption safely\n",
    "    def get_energy_consumption(self):\n",
    "        return self._energy_consumption\n",
    "\n",
    "    # Method to calculate carbon footprint\n",
    "    def calculate_carbon_footprint(self):\n",
    "        return self._energy_consumption * self._emission_factor\n",
    "\n",
    "# Example usage:\n",
    "building = EnergySystem(\"Building A\", 5000, 0.45)\n",
    "print(f\"Energy Consumption (accessed via method): {building.get_energy_consumption()} kWh\")\n"
   ]
  },
  {
   "cell_type": "markdown",
   "id": "b55360d4",
   "metadata": {},
   "source": [
    "The attributes energy_consumption and emission_factor are marked as protected (using _) so they can’t be directly accessed outside the class.\n",
    "The get_energy_consumption() method provides controlled access to the attribute."
   ]
  },
  {
   "cell_type": "markdown",
   "id": "2fde5e17",
   "metadata": {},
   "source": [
    "## 5: Polymorphism (Overriding Methods in Subclass)"
   ]
  },
  {
   "cell_type": "code",
   "execution_count": 6,
   "id": "ed9122c9",
   "metadata": {},
   "outputs": [
    {
     "name": "stdout",
     "output_type": "stream",
     "text": [
      "Adjusted Carbon Footprint (after solar production): 1575.00 kg CO2\n"
     ]
    }
   ],
   "source": [
    "# Subclass SolarEnergySystem overriding the carbon footprint method\n",
    "class SolarEnergySystem(EnergySystem):\n",
    "    def __init__(self, building_name, energy_consumption, emission_factor, solar_production):\n",
    "        # Call the parent class constructor to initialize inherited attributes\n",
    "        super().__init__(building_name, energy_consumption, emission_factor)\n",
    "        self.solar_production = solar_production  # new attribute for solar energy production\n",
    "    \n",
    "    # Overriding the carbon footprint method to account for solar production\n",
    "    def calculate_carbon_footprint(self):\n",
    "        # Access energy consumption from the parent class (inherited attribute)\n",
    "        net_consumption = self._energy_consumption - self.solar_production\n",
    "        return net_consumption * self._emission_factor\n",
    "\n",
    "# Example usage:\n",
    "solar_building = SolarEnergySystem(\"Solar Building\", 5000, 0.45, 1500)\n",
    "carbon_footprint = solar_building.calculate_carbon_footprint()\n",
    "\n",
    "print(f\"Adjusted Carbon Footprint (after solar production): {carbon_footprint:.2f} kg CO2\")\n"
   ]
  },
  {
   "cell_type": "markdown",
   "id": "7fc646e4",
   "metadata": {},
   "source": [
    "The __init__() method in the subclass calls super().__init__() to initialize the parent class's attributes (building_name, energy_consumption, and emission_factor).\n",
    "\n",
    "Protected attributes: We use _energy_consumption and _emission_factor, which are protected attributes, to ensure encapsulation but allow their use within the class and subclasses.\n",
    "\n",
    "Overriding the method: The calculate_carbon_footprint() method uses the protected attribute _energy_consumption and adjusts it by subtracting the solar production before calculating the carbon footprint."
   ]
  },
  {
   "cell_type": "markdown",
   "id": "e0e35256",
   "metadata": {},
   "source": [
    "#### Conclusion:\n",
    "\n",
    "In this lab activity, we’ve modeled an energy system using Python’s Object-Oriented Programming principles. \n",
    "We defined a base class for buildings' energy consumption, used methods to compute carbon footprint and energy savings, extended the class through inheritance to handle specific cases like solar energy systems, protected sensitive data using encapsulation, and demonstrated polymorphism by overriding methods in the subclass. \n",
    "This provides a flexible, scalable approach to managing energy data in different types of buildings."
   ]
  }
 ],
 "metadata": {
  "kernelspec": {
   "display_name": "Python 3 (ipykernel)",
   "language": "python",
   "name": "python3"
  },
  "language_info": {
   "codemirror_mode": {
    "name": "ipython",
    "version": 3
   },
   "file_extension": ".py",
   "mimetype": "text/x-python",
   "name": "python",
   "nbconvert_exporter": "python",
   "pygments_lexer": "ipython3",
   "version": "3.8.18"
  }
 },
 "nbformat": 4,
 "nbformat_minor": 5
}
