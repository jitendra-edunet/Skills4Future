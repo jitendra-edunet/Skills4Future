{
 "cells": [
  {
   "cell_type": "markdown",
   "id": "ad387a98",
   "metadata": {},
   "source": [
    "# Implementation of Functions and Lambda Function in python"
   ]
  },
  {
   "cell_type": "markdown",
   "id": "a40bd5da",
   "metadata": {},
   "source": [
    "Objective: \n",
    "1. Understand and Implement the function and lambda function \n",
    "2. To create the function that calculates the carbon footprint based on energy consumption (in kilowatt-hours) and the emission factor (kg CO2 per kWh).   \n",
    "3. To create the lambda function to filter out cities where the carbon footprint is below a sustainability threshold (e.g., below 400 kg CO2)."
   ]
  },
  {
   "cell_type": "markdown",
   "id": "b901f465",
   "metadata": {},
   "source": [
    "## 1. Understanding and Implementing Functions\n",
    "\n",
    "Functions: A function in Python is a reusable block of code that performs a specific task.\n",
    "\n",
    "Example: A function to calculate the carbon footprint:"
   ]
  },
  {
   "cell_type": "code",
   "execution_count": 2,
   "id": "8f2e5fb8",
   "metadata": {},
   "outputs": [],
   "source": [
    "def calculate_carbon_footprint(energy_consumption, emission_factor):\n",
    "    \"\"\"\n",
    "    This function calculates the carbon footprint based on energy consumption \n",
    "    (in kilowatt-hours) and the emission factor (in kg CO2 per kWh).\n",
    "    \"\"\"\n",
    "    return energy_consumption * emission_factor\n"
   ]
  },
  {
   "cell_type": "markdown",
   "id": "c2e926d9",
   "metadata": {},
   "source": [
    "## 2. Implementation of the Carbon Footprint Calculation Function\n",
    "\n",
    "Here’s how the function works:"
   ]
  },
  {
   "cell_type": "code",
   "execution_count": 3,
   "id": "2e84b97b",
   "metadata": {},
   "outputs": [
    {
     "name": "stdout",
     "output_type": "stream",
     "text": [
      "Carbon Footprint: 475.0 kg CO2\n"
     ]
    }
   ],
   "source": [
    "# Example usage:\n",
    "energy_consumption = 1000  # in kWh\n",
    "emission_factor = 0.475      # kg CO2 per kWh\n",
    "\n",
    "carbon_footprint = calculate_carbon_footprint(energy_consumption, emission_factor)\n",
    "print(f\"Carbon Footprint: {carbon_footprint} kg CO2\")\n",
    "\n",
    "#This will calculate and print the carbon footprint for the given energy consumption and emission factor.\n"
   ]
  },
  {
   "cell_type": "markdown",
   "id": "c115dec2",
   "metadata": {},
   "source": [
    "## 3. Lambda Function to Filter Cities Based on Carbon Footprint\n",
    "\n",
    "Lamda functions: lambda functions are one-line functions in Python. A lambda function is a small, anonymous function you can use when you need a simple, short-term function.\n",
    "\n",
    "Here’s how you can use a lambda function to filter out cities with a carbon footprint below a sustainability threshold, for example, 400 tons CO₂ per month."
   ]
  },
  {
   "cell_type": "code",
   "execution_count": 3,
   "id": "0d303230",
   "metadata": {},
   "outputs": [
    {
     "name": "stdout",
     "output_type": "stream",
     "text": [
      "Sustainable Cities:\n",
      "City B\n",
      "City D\n"
     ]
    }
   ],
   "source": [
    "# List of cities with their carbon footprints in tons CO2 per month\n",
    "cities = [\n",
    "    {\"name\": \"City A\", \"carbon_footprint\": 500},\n",
    "    {\"name\": \"City B\", \"carbon_footprint\": 350},\n",
    "    {\"name\": \"City C\", \"carbon_footprint\": 600},\n",
    "    {\"name\": \"City D\", \"carbon_footprint\": 200},\n",
    "]\n",
    "\n",
    "# Lambda function to filter cities below the threshold (400 ton CO2)\n",
    "sustainability_threshold = 400\n",
    "sustainable_cities = list(filter(lambda city: city[\"carbon_footprint\"] < sustainability_threshold, cities))\n",
    "\n",
    "# Printing the filtered list of sustainable cities\n",
    "print(\"Sustainable Cities:\")\n",
    "for city in sustainable_cities:\n",
    "    print(city[\"name\"])\n"
   ]
  },
  {
   "cell_type": "markdown",
   "id": "5d7577a6",
   "metadata": {},
   "source": [
    "#### Points to remember:\n",
    "\n",
    "    Functions help you reuse code for specific tasks like calculating the carbon footprint.\n",
    "    Lambda Functions are useful when you need short, throwaway functions, such as when filtering lists."
   ]
  }
 ],
 "metadata": {
  "kernelspec": {
   "display_name": "DataScience",
   "language": "python",
   "name": "python3"
  },
  "language_info": {
   "codemirror_mode": {
    "name": "ipython",
    "version": 3
   },
   "file_extension": ".py",
   "mimetype": "text/x-python",
   "name": "python",
   "nbconvert_exporter": "python",
   "pygments_lexer": "ipython3",
   "version": "3.8.18"
  }
 },
 "nbformat": 4,
 "nbformat_minor": 5
}
